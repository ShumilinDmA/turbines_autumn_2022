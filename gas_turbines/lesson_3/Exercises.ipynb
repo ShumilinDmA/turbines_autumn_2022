{
 "cells": [
  {
   "cell_type": "markdown",
   "id": "94b6ea3e",
   "metadata": {},
   "source": [
    "## Небольшое дополнение"
   ]
  },
  {
   "cell_type": "markdown",
   "id": "07c49f93",
   "metadata": {},
   "source": [
    "Теплоемкость расчитывается по следующему полиному"
   ]
  },
  {
   "cell_type": "markdown",
   "id": "248654b0",
   "metadata": {},
   "source": [
    "$$Cp(T)/R = a_1 * T^{-2} + a_2 * T^{-1} + a_3 + a_4 * T + a_5 * T^2 + a_6 * T^3 + a_7 * T^4$$"
   ]
  },
  {
   "cell_type": "markdown",
   "id": "dd0a04ed",
   "metadata": {},
   "source": [
    "Коэффициенты для:\n",
    "* Воздух от 200 до 1000 K:\n",
    "1.009950160e4,-1.968275610e2, 5.009155110,\n",
    "                -5.761013730e-3,\n",
    "                1.066859930e-5,\n",
    "                -7.940297970e-9,\n",
    "                 2.185231910e-12\n",
    "* Воздух от 1000 до 2000 K:\n",
    "2.415214430e+05,-1.257874600e+03, 5.144558670e+00,-2.138541790e-04, 7.065227840e-08,\n",
    "-1.071483490e-11, 6.577800150e-16, \n",
    "\n",
    "* Вода от 200 до 1000K:\n",
    "\n",
    "-3.947960830e+04, 5.755731020e+02, 9.317826530e-01, 7.222712860e-03,-7.342557370e-06,\n",
    "     4.955043490e-09,-1.336933246e-12 \n",
    "\n",
    "* Вода от 1000 до 2000K:\n",
    "1.034972096e+06,-2.412698562e+03, 4.646110780e+00, 2.291998307e-03,-6.836830480e-07,\n",
    " 9.426468930e-11,-4.822380530e-15 \n",
    " \n",
    "* N2 от 200 до 1000 K:\n",
    "2.210371497e4, -3.818461820e2,   6.082738360,\n",
    "                   -8.530914410e-3,\n",
    "                    1.384646189e-5,\n",
    "                    -9.625793620e-9, 2.519705809e-12, \n",
    "                    \n",
    "* N2 от 1000 до 2000 K:                 \n",
    "5.877124060e+05, -2.239249073e+03, 6.066949220e+00, -6.139685500e-04,\n",
    "                 1.491806679e-07,-1.923105485e-11, 1.061954386e-15\n",
    "                 \n",
    "* Трехатомные газы от 200 до 1000 K:\n",
    "4.943650540e+04,-6.264116010e+02,\n",
    "               5.301725240,\n",
    "                2.503813816e-03,\n",
    "                -2.127308728e-07,\n",
    "                -7.689988780e-10,\n",
    "                 2.849677801e-13\n",
    "* Трехатомные газы от 1000 до 6000K:\n",
    "1.176962419e+05, -1.788791477e+03, 8.291523190e+00,-9.223156780e-05,4.863676880e-09,\n",
    "-1.891053312e-12, 6.330036590e-16"
   ]
  },
  {
   "cell_type": "markdown",
   "id": "fa15d203",
   "metadata": {},
   "source": [
    "Теплоемкость смеси продуктов сгорания и воздуха"
   ]
  },
  {
   "attachments": {
    "image.png": {
     "image/png": "[encoded data removed]"
    }
   },
   "cell_type": "markdown",
   "id": "627c4eb8",
   "metadata": {},
   "source": [
    "![image.png](attachment:image.png)"
   ]
  },
  {
   "cell_type": "markdown",
   "id": "e490b946",
   "metadata": {},
   "source": [
    "# Задача \n",
    "\n",
    "Для  расчета  тепловой  схемы  простой ГТУ  заданы  или  приняты  по  оценке  следующие  исходные величины:\n",
    "* электрическая мощность Nэ = 100 МВт\n",
    "* температура газов перед турбиной tc = 1200 °С\n",
    "* температура воздуха на входе в компрессор ta = 15 °С\n",
    "* отношение давлений компрессора ε = pb/pa = 16\n",
    "* коэффициент потерь давления λ = δ/ε = 0,95\n",
    "* коэффициент  использования  теплоты  топлива  в камере сгорания ηк.c = 0,995\n",
    "* механический КПД турбины ηм = 0,995\n",
    "* КПД электрического генератора ηэ.г = 0,982\n",
    "* изоэнтропийный КПД турбины ηт = 0,88\n",
    "* изоэнтропийный КПД компрессора ηк = 0,8"
   ]
  },
  {
   "cell_type": "code",
   "execution_count": 1,
   "id": "5caaf872",
   "metadata": {},
   "outputs": [],
   "source": [
    "import sys\n",
    "import numpy as np\n",
    "import matplotlib.pyplot as plt"
   ]
  },
  {
   "cell_type": "code",
   "execution_count": 2,
   "id": "f6592f03",
   "metadata": {},
   "outputs": [],
   "source": [
    "sys.path.append(\"..\")\n",
    "from natural_gas.gas import NaturalGas"
   ]
  },
  {
   "cell_type": "code",
   "execution_count": 3,
   "id": "6657527e",
   "metadata": {},
   "outputs": [],
   "source": [
    "kPa = 1e3\n",
    "MPa = 1e6\n",
    "MW = 1e6\n",
    "\n",
    "to_kelvin = lambda x: x + 273.15\n",
    "to_celsius = lambda x: x - 273.15"
   ]
  },
  {
   "cell_type": "code",
   "execution_count": 4,
   "id": "f24e126f",
   "metadata": {},
   "outputs": [],
   "source": [
    "electrical_power = 100 * MW\n",
    "T_c = to_kelvin(1200)\n",
    "T_a = to_kelvin(15)\n",
    "p_a = 101 * kPa\n",
    "pressure_loss_coefficient = 0.95\n",
    "compression_factor = 16\n",
    "\n",
    "fuel_density = 0.7325\n",
    "air_density = p_a / (287 * T_a)\n",
    "rho = fuel_density / air_density\n",
    "\n",
    "\n",
    "combustor_efficiency = 0.995\n",
    "mechanical_efficiency = 0.995\n",
    "generator_efficiency = 0.982\n",
    "compressor_efficiency = 0.86\n",
    "turbine_efficiency = 0.88\n",
    "\n",
    "R_air = 287"
   ]
  },
  {
   "cell_type": "code",
   "execution_count": 5,
   "id": "eecbaa39",
   "metadata": {},
   "outputs": [
    {
     "data": {
      "text/plain": [
       "(15.64649112920197, 48205632.76450512)"
      ]
     },
     "execution_count": 5,
     "metadata": {},
     "output_type": "execute_result"
    }
   ],
   "source": [
    "gas = NaturalGas()\n",
    "\n",
    "L0 = gas.air_v0 / rho\n",
    "Q_lower = gas.net_calorific_value * 1000 / fuel_density \n",
    "L0, Q_lower"
   ]
  },
  {
   "cell_type": "code",
   "execution_count": 6,
   "id": "315d0e4f",
   "metadata": {},
   "outputs": [],
   "source": [
    "m_air = R_air / gas._cp_air(T_a)\n",
    "h_a = gas.h_air(T_a)"
   ]
  },
  {
   "cell_type": "code",
   "execution_count": 7,
   "id": "f634169b",
   "metadata": {},
   "outputs": [
    {
     "name": "stdout",
     "output_type": "stream",
     "text": [
      "Температура за компрессором в первом приближении:  420.68132642074943\n"
     ]
    }
   ],
   "source": [
    "T_b = T_a * (1 + (compression_factor ** m_air - 1) / compressor_efficiency)\n",
    "print(\"Температура за компрессором в первом приближении: \", to_celsius(T_b))"
   ]
  },
  {
   "cell_type": "code",
   "execution_count": 8,
   "id": "a9ff9b80",
   "metadata": {},
   "outputs": [
    {
     "data": {
      "text/plain": [
       "0.27856065860225204"
      ]
     },
     "execution_count": 8,
     "metadata": {},
     "output_type": "execute_result"
    }
   ],
   "source": [
    "h_b = gas.h_air(T_b)\n",
    "# cp_air_mean = (gas._cp_air(T_a) + gas._cp_air(T_b)) / 2 \n",
    "cp_air_mean = (h_b - h_a) / (T_b - T_a) \n",
    "m_air_precise = R_air / cp_air_mean\n",
    "m_air_precise"
   ]
  },
  {
   "cell_type": "code",
   "execution_count": 9,
   "id": "673eabd2",
   "metadata": {},
   "outputs": [
    {
     "name": "stdout",
     "output_type": "stream",
     "text": [
      "Температура за компрессором: 405.28019049905345\n"
     ]
    }
   ],
   "source": [
    "T_b = T_a * (1 + (compression_factor ** m_air_precise - 1) / compressor_efficiency)\n",
    "h_b = gas.h_air(T_b)\n",
    "print(\"Температура за компрессором:\", to_celsius(T_b))"
   ]
  },
  {
   "attachments": {
    "image.png": {
     "image/png": "[encoded data removed]"
    }
   },
   "cell_type": "markdown",
   "id": "7b693b61",
   "metadata": {},
   "source": [
    "![image.png](attachment:image.png)"
   ]
  },
  {
   "attachments": {
    "image.png": {
     "image/png": "[encoded data removed]"
    }
   },
   "cell_type": "markdown",
   "id": "1ed00d74",
   "metadata": {},
   "source": [
    "![image.png](attachment:image.png)"
   ]
  },
  {
   "attachments": {
    "image.png": {
     "image/png": "[encoded data removed]"
    }
   },
   "cell_type": "markdown",
   "id": "357f8990",
   "metadata": {},
   "source": [
    "![image.png](attachment:image.png)"
   ]
  },
  {
   "cell_type": "code",
   "execution_count": 10,
   "id": "26f56ed4",
   "metadata": {},
   "outputs": [
    {
     "data": {
      "text/plain": [
       "2.3215824788747157"
      ]
     },
     "execution_count": 10,
     "metadata": {},
     "output_type": "execute_result"
    }
   ],
   "source": [
    "h_air_tc = gas.h_air(T_c) / 1000\n",
    "h_ccp = gas.h_ccp(T_c) / 1000\n",
    "\n",
    "alpha = (\n",
    "    (Q_lower / 1000) * combustor_efficiency +\n",
    "    L0 * h_air_tc -\n",
    "    (1 + L0) * h_ccp\n",
    ") / (L0 * (h_air_tc - h_b/1000))\n",
    "\n",
    "# alpha = (3000 - 0.367 * T_c) / (T_c - T_b)\n",
    "\n",
    "alpha"
   ]
  },
  {
   "cell_type": "code",
   "execution_count": 11,
   "id": "526ef341",
   "metadata": {},
   "outputs": [],
   "source": [
    "gas = NaturalGas(alpha=alpha)"
   ]
  },
  {
   "cell_type": "code",
   "execution_count": 12,
   "id": "4d4894bf",
   "metadata": {},
   "outputs": [
    {
     "data": {
      "text/plain": [
       "1661823.2939621576"
      ]
     },
     "execution_count": 12,
     "metadata": {},
     "output_type": "execute_result"
    }
   ],
   "source": [
    "h_c = gas.h_cp(T_c, alpha=alpha, L0=L0)\n",
    "h_c"
   ]
  },
  {
   "cell_type": "code",
   "execution_count": 13,
   "id": "262a2512",
   "metadata": {},
   "outputs": [],
   "source": [
    "m_gas = 0.25"
   ]
  },
  {
   "cell_type": "code",
   "execution_count": 14,
   "id": "4304b63a",
   "metadata": {},
   "outputs": [
    {
     "data": {
      "text/plain": [
       "15.2"
      ]
     },
     "execution_count": 14,
     "metadata": {},
     "output_type": "execute_result"
    }
   ],
   "source": [
    "expansion_ratio = compression_factor * pressure_loss_coefficient\n",
    "expansion_ratio"
   ]
  },
  {
   "cell_type": "code",
   "execution_count": 15,
   "id": "7e6b0654",
   "metadata": {},
   "outputs": [
    {
     "name": "stdout",
     "output_type": "stream",
     "text": [
      "Температура за турбиной в первом приближении:  560.1794204434805\n"
     ]
    }
   ],
   "source": [
    "T_d = T_c * (1 - (1 - expansion_ratio ** (-m_gas)) * turbine_efficiency)\n",
    "print(\"Температура за турбиной в первом приближении: \", to_celsius(T_d))"
   ]
  },
  {
   "cell_type": "code",
   "execution_count": 16,
   "id": "17eb8a93",
   "metadata": {},
   "outputs": [],
   "source": [
    "h_d = gas.h_cp(T_d, alpha, L0)"
   ]
  },
  {
   "attachments": {
    "image-2.png": {
     "image/png": "[encoded data removed]"
    },
    "image-3.png": {
     "image/png": "[encoded data removed]"
    },
    "image.png": {
     "image/png": "[encoded data removed]"
    }
   },
   "cell_type": "markdown",
   "id": "1ae66fcb",
   "metadata": {},
   "source": [
    "![image-3.png](attachment:image-3.png)\n",
    "![image-2.png](attachment:image-2.png)\n",
    "![image.png](attachment:image.png)"
   ]
  },
  {
   "cell_type": "code",
   "execution_count": 17,
   "id": "a871862a",
   "metadata": {},
   "outputs": [],
   "source": [
    "nu_ccp = 8.313 / gas.R_cp * 1000\n",
    "nu_air = 29"
   ]
  },
  {
   "cell_type": "code",
   "execution_count": 18,
   "id": "ab54fa83",
   "metadata": {},
   "outputs": [
    {
     "data": {
      "text/plain": [
       "293.6688497367313"
      ]
     },
     "execution_count": 18,
     "metadata": {},
     "output_type": "execute_result"
    }
   ],
   "source": [
    "q = (nu_ccp * L0) / (nu_air * (1 + L0))\n",
    "r_frac = q * (alpha - 1) / (1 + q * (alpha - 1))\n",
    "nu_gas = nu_air * r_frac + nu_ccp * (1 - r_frac)\n",
    "R_gas = 8.314 * 1000 / nu_gas\n",
    "R_gas"
   ]
  },
  {
   "cell_type": "code",
   "execution_count": 19,
   "id": "04b042be",
   "metadata": {},
   "outputs": [
    {
     "data": {
      "text/plain": [
       "0.213486018368019"
      ]
     },
     "execution_count": 19,
     "metadata": {},
     "output_type": "execute_result"
    }
   ],
   "source": [
    "Cp_gas = (h_c - h_d) / (T_c - T_d)\n",
    "m_gas = R_gas / Cp_gas\n",
    "m_gas"
   ]
  },
  {
   "cell_type": "code",
   "execution_count": 20,
   "id": "d478b9dc",
   "metadata": {},
   "outputs": [
    {
     "name": "stdout",
     "output_type": "stream",
     "text": [
      "Температура за турбиной:  628.7691655952228\n"
     ]
    }
   ],
   "source": [
    "T_d = T_c * (1 - (1 - expansion_ratio ** (-m_gas)) * turbine_efficiency)\n",
    "print(\"Температура за турбиной: \", to_celsius(T_d))"
   ]
  },
  {
   "cell_type": "code",
   "execution_count": 21,
   "id": "e86e05d8",
   "metadata": {},
   "outputs": [],
   "source": [
    "h_d = gas.h_cp(T_d, alpha, L0)"
   ]
  },
  {
   "attachments": {
    "image.png": {
     "image/png": "[encoded data removed]"
    }
   },
   "cell_type": "markdown",
   "id": "fe867357",
   "metadata": {},
   "source": [
    "![image.png](attachment:image.png)"
   ]
  },
  {
   "cell_type": "code",
   "execution_count": 22,
   "id": "693c7f07",
   "metadata": {},
   "outputs": [],
   "source": [
    "b = alpha * L0 * (1 + 0) / (1 + alpha * L0)"
   ]
  },
  {
   "cell_type": "code",
   "execution_count": 23,
   "id": "51bf7072",
   "metadata": {},
   "outputs": [],
   "source": [
    "H_turbine = h_c - h_d\n",
    "H_compressor = h_b - h_a\n",
    "H_work = H_turbine * mechanical_efficiency - b * H_compressor"
   ]
  },
  {
   "cell_type": "code",
   "execution_count": 24,
   "id": "ece78cc5",
   "metadata": {},
   "outputs": [
    {
     "data": {
      "text/plain": [
       "257.4329597750403"
      ]
     },
     "execution_count": 24,
     "metadata": {},
     "output_type": "execute_result"
    }
   ],
   "source": [
    "gas_mass_flow = electrical_power / (H_work * generator_efficiency)\n",
    "gas_mass_flow"
   ]
  },
  {
   "cell_type": "code",
   "execution_count": 25,
   "id": "ce9cded7",
   "metadata": {},
   "outputs": [
    {
     "data": {
      "text/plain": [
       "250.53582426206668"
      ]
     },
     "execution_count": 25,
     "metadata": {},
     "output_type": "execute_result"
    }
   ],
   "source": [
    "air_mass_flow = b * gas_mass_flow\n",
    "air_mass_flow"
   ]
  },
  {
   "cell_type": "code",
   "execution_count": 26,
   "id": "3afd7155",
   "metadata": {},
   "outputs": [
    {
     "data": {
      "text/plain": [
       "6.897135512973612"
      ]
     },
     "execution_count": 26,
     "metadata": {},
     "output_type": "execute_result"
    }
   ],
   "source": [
    "fuel_mass_flow = gas_mass_flow / (1 + alpha * L0)\n",
    "fuel_mass_flow"
   ]
  },
  {
   "cell_type": "code",
   "execution_count": 27,
   "id": "98019c75",
   "metadata": {},
   "outputs": [],
   "source": [
    "turbine_power = gas_mass_flow * H_turbine\n",
    "compressor_power = air_mass_flow * H_compressor"
   ]
  },
  {
   "cell_type": "code",
   "execution_count": 28,
   "id": "986b381d",
   "metadata": {},
   "outputs": [
    {
     "data": {
      "text/plain": [
       "0.5055609641181702"
      ]
     },
     "execution_count": 28,
     "metadata": {},
     "output_type": "execute_result"
    }
   ],
   "source": [
    "work_coefficient = (turbine_power - compressor_power) / turbine_power\n",
    "work_coefficient"
   ]
  },
  {
   "cell_type": "code",
   "execution_count": 29,
   "id": "09d8a825",
   "metadata": {},
   "outputs": [
    {
     "data": {
      "text/plain": [
       "0.30076926401306286"
      ]
     },
     "execution_count": 29,
     "metadata": {},
     "output_type": "execute_result"
    }
   ],
   "source": [
    "electrical_efficiency_estimated = (\n",
    "    gas_mass_flow * H_work * generator_efficiency / (fuel_mass_flow * Q_lower)\n",
    ")\n",
    "electrical_efficiency_estimated"
   ]
  },
  {
   "cell_type": "code",
   "execution_count": null,
   "id": "ceaff3c8",
   "metadata": {},
   "outputs": [],
   "source": []
  },
  {
   "cell_type": "code",
   "execution_count": null,
   "id": "9454a53b",
   "metadata": {},
   "outputs": [],
   "source": []
  },
  {
   "cell_type": "code",
   "execution_count": null,
   "id": "f8380c5c",
   "metadata": {},
   "outputs": [],
   "source": []
  }
 ],
 "metadata": {
  "kernelspec": {
   "display_name": "Python 3 (ipykernel)",
   "language": "python",
   "name": "python3"
  },
  "language_info": {
   "codemirror_mode": {
    "name": "ipython",
    "version": 3
   },
   "file_extension": ".py",
   "mimetype": "text/x-python",
   "name": "python",
   "nbconvert_exporter": "python",
   "pygments_lexer": "ipython3",
   "version": "3.8.5"
  }
 },
 "nbformat": 4,
 "nbformat_minor": 5
}
