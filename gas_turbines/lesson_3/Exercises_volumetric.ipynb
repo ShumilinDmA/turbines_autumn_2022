{
 "cells": [
  {
   "cell_type": "markdown",
   "id": "72b2e7e7",
   "metadata": {},
   "source": [
    "# Задача \n",
    "\n",
    "Для  расчета  тепловой  схемы  простой ГТУ  заданы  или  приняты  по  оценке  следующие  исходные величины:\n",
    "* электрическая мощность Nэ = 100 МВт\n",
    "* температура газов перед турбиной tc = 1200 °С\n",
    "* температура воздуха на входе в компрессор ta = 15 °С\n",
    "* отношение давлений компрессора ε = pb/pa = 16\n",
    "* коэффициент потерь давления λ = δ/ε = 0,95\n",
    "* коэффициент  использования  теплоты  топлива  в камере сгорания ηк.c = 0,995\n",
    "* механический КПД турбины ηм = 0,995\n",
    "* КПД электрического генератора ηэ.г = 0,982\n",
    "* изоэнтропийный КПД турбины ηт = 0,88\n",
    "* изоэнтропийный КПД компрессора ηк = 0,8"
   ]
  },
  {
   "cell_type": "code",
   "execution_count": 1,
   "id": "025cdbd5",
   "metadata": {},
   "outputs": [],
   "source": [
    "import sys\n",
    "import numpy as np\n",
    "import matplotlib.pyplot as plt"
   ]
  },
  {
   "cell_type": "code",
   "execution_count": 2,
   "id": "92a7f4bb",
   "metadata": {},
   "outputs": [],
   "source": [
    "sys.path.append(\"..\")\n",
    "from natural_gas.gas import NaturalGas, NaturalGasVolumetric"
   ]
  },
  {
   "cell_type": "code",
   "execution_count": 3,
   "id": "b914b578",
   "metadata": {},
   "outputs": [],
   "source": [
    "kPa = 1e3\n",
    "MPa = 1e6\n",
    "MW = 1e6\n",
    "\n",
    "to_kelvin = lambda x: x + 273.15\n",
    "to_celsius = lambda x: x - 273.15"
   ]
  },
  {
   "cell_type": "code",
   "execution_count": 124,
   "id": "370b2741",
   "metadata": {},
   "outputs": [],
   "source": [
    "electrical_power = 100 * MW\n",
    "T_c = to_kelvin(1200)\n",
    "T_a = to_kelvin(15)\n",
    "p_a = 101 * kPa\n",
    "pressure_loss_coefficient = 0.95\n",
    "compression_factor = 16\n",
    "\n",
    "\n",
    "combustor_efficiency = 0.995\n",
    "mechanical_efficiency = 0.995\n",
    "generator_efficiency = 0.982\n",
    "compressor_efficiency = 0.86\n",
    "turbine_efficiency = 0.88\n",
    "\n",
    "R_air = 287\n",
    "# m_air = 0.28\n",
    "\n",
    "gtu_efficiency = 0.35\n",
    "gas_mass_flow_rate = 275.2045683974156\n",
    "fuel_density = 0.669\n",
    "\n",
    "air_density = p_a / (287 * T_a)\n",
    "rho = fuel_density / air_density"
   ]
  },
  {
   "cell_type": "code",
   "execution_count": 125,
   "id": "f8fc5f8d",
   "metadata": {},
   "outputs": [],
   "source": [
    "gas = NaturalGasVolumetric(1)\n",
    "air = NaturalGas(1)"
   ]
  },
  {
   "cell_type": "code",
   "execution_count": 126,
   "id": "32e4a5c8",
   "metadata": {},
   "outputs": [],
   "source": [
    "fuel_volumetric_flow_rate = electrical_power / (gtu_efficiency * gas.net_calorific_value * 1000)\n",
    "fuel_mass_flow_rate = fuel_volumetric_flow_rate * fuel_density\n",
    "air_mass_flow_rate = gas_mass_flow_rate - fuel_mass_flow_rate"
   ]
  },
  {
   "cell_type": "code",
   "execution_count": 127,
   "id": "2e459711",
   "metadata": {},
   "outputs": [
    {
     "data": {
      "text/plain": [
       "2.748139121006315"
      ]
     },
     "execution_count": 127,
     "metadata": {},
     "output_type": "execute_result"
    }
   ],
   "source": [
    "left = (gas_mass_flow_rate / (fuel_density * fuel_volumetric_flow_rate)) - 1\n",
    "right = fuel_density / (1.293 * gas.air_v0)\n",
    "alpha = left*right\n",
    "alpha"
   ]
  },
  {
   "cell_type": "code",
   "execution_count": 128,
   "id": "76b1054f",
   "metadata": {},
   "outputs": [],
   "source": [
    "L0 = gas.air_v0 / rho\n",
    "Q_lower = gas.net_calorific_value * 1000 / fuel_density \n",
    "m_air = R_air / air._cp_air(T_a)\n",
    "h_a = air.h_air(T_a)"
   ]
  },
  {
   "cell_type": "code",
   "execution_count": 129,
   "id": "cac433cd",
   "metadata": {},
   "outputs": [
    {
     "name": "stdout",
     "output_type": "stream",
     "text": [
      "Температура за компрессором в первом приближении:  420.68132642074943\n"
     ]
    }
   ],
   "source": [
    "T_b = T_a * (1 + (compression_factor ** m_air - 1) / compressor_efficiency)\n",
    "print(\"Температура за компрессором в первом приближении: \", to_celsius(T_b))"
   ]
  },
  {
   "cell_type": "code",
   "execution_count": 130,
   "id": "c95ad0b0",
   "metadata": {},
   "outputs": [
    {
     "data": {
      "text/plain": [
       "0.27856065860225204"
      ]
     },
     "execution_count": 130,
     "metadata": {},
     "output_type": "execute_result"
    }
   ],
   "source": [
    "h_b = air.h_air(T_b)\n",
    "cp_air_mean = (h_b - h_a) / (T_b - T_a) \n",
    "m_air_precise = R_air / cp_air_mean\n",
    "m_air_precise"
   ]
  },
  {
   "cell_type": "code",
   "execution_count": 131,
   "id": "e02feb53",
   "metadata": {},
   "outputs": [
    {
     "name": "stdout",
     "output_type": "stream",
     "text": [
      "Температура за компрессором: 405.28019049905345\n"
     ]
    }
   ],
   "source": [
    "T_b = T_a * (1 + (compression_factor ** m_air_precise - 1) / compressor_efficiency)\n",
    "h_b = air.h_air(T_b)\n",
    "print(\"Температура за компрессором:\", to_celsius(T_b))"
   ]
  },
  {
   "cell_type": "code",
   "execution_count": 133,
   "id": "cb077f9b",
   "metadata": {},
   "outputs": [
    {
     "data": {
      "text/plain": [
       "1782110.8309047108"
      ]
     },
     "execution_count": 133,
     "metadata": {},
     "output_type": "execute_result"
    }
   ],
   "source": [
    "h_c = (\n",
    "    gas.h_cp(T_c, alpha=alpha) * 1000 *\n",
    "    fuel_volumetric_flow_rate / gas_mass_flow_rate\n",
    ")\n",
    "\n",
    "h_c"
   ]
  },
  {
   "cell_type": "code",
   "execution_count": 134,
   "id": "1a28c6e1",
   "metadata": {},
   "outputs": [],
   "source": [
    "m_gas = 0.25"
   ]
  },
  {
   "cell_type": "code",
   "execution_count": 135,
   "id": "855ae0c9",
   "metadata": {},
   "outputs": [
    {
     "data": {
      "text/plain": [
       "15.2"
      ]
     },
     "execution_count": 135,
     "metadata": {},
     "output_type": "execute_result"
    }
   ],
   "source": [
    "expansion_ratio = compression_factor * pressure_loss_coefficient\n",
    "expansion_ratio"
   ]
  },
  {
   "cell_type": "code",
   "execution_count": 136,
   "id": "102134c0",
   "metadata": {},
   "outputs": [
    {
     "name": "stdout",
     "output_type": "stream",
     "text": [
      "Температура за турбиной в первом приближении:  560.1794204434805\n"
     ]
    }
   ],
   "source": [
    "T_d = T_c * (1 - (1 - expansion_ratio ** (-m_gas)) * turbine_efficiency)\n",
    "print(\"Температура за турбиной в первом приближении: \", to_celsius(T_d))"
   ]
  },
  {
   "cell_type": "code",
   "execution_count": 137,
   "id": "7009bf8d",
   "metadata": {},
   "outputs": [],
   "source": [
    "h_d = (\n",
    "    1000 * gas.h_cp(T_d, alpha) *\n",
    "    fuel_volumetric_flow_rate / gas_mass_flow_rate\n",
    ")"
   ]
  },
  {
   "attachments": {
    "image-2.png": {
     "image/png": "[encoded data removed]"
    },
    "image-3.png": {
     "image/png": "[encoded data removed]"
    },
    "image.png": {
     "image/png": "[encoded data removed]"
    }
   },
   "cell_type": "markdown",
   "id": "f1e86306",
   "metadata": {},
   "source": [
    "![image-3.png](attachment:image-3.png)\n",
    "![image-2.png](attachment:image-2.png)\n",
    "![image.png](attachment:image.png)"
   ]
  },
  {
   "cell_type": "code",
   "execution_count": 138,
   "id": "f7a425db",
   "metadata": {},
   "outputs": [],
   "source": [
    "nu_ccp = 8.313 / gas.R_cp * 1000\n",
    "nu_air = 29"
   ]
  },
  {
   "cell_type": "code",
   "execution_count": 139,
   "id": "8872ba6e",
   "metadata": {},
   "outputs": [
    {
     "data": {
      "text/plain": [
       "292.5998542306131"
      ]
     },
     "execution_count": 139,
     "metadata": {},
     "output_type": "execute_result"
    }
   ],
   "source": [
    "q = (nu_ccp * L0) / (nu_air * (1 + L0))\n",
    "r_frac = q * (alpha - 1) / (1 + q * (alpha - 1))\n",
    "nu_gas = nu_air * r_frac + nu_ccp * (1 - r_frac)\n",
    "R_gas = 8.314 * 1000 / nu_gas\n",
    "R_gas"
   ]
  },
  {
   "cell_type": "code",
   "execution_count": 140,
   "id": "e3a3666f",
   "metadata": {},
   "outputs": [
    {
     "data": {
      "text/plain": [
       "0.23010277762624717"
      ]
     },
     "execution_count": 140,
     "metadata": {},
     "output_type": "execute_result"
    }
   ],
   "source": [
    "Cp_gas = (h_c - h_d) / (T_c - T_d)\n",
    "m_gas = R_gas / Cp_gas\n",
    "m_gas"
   ]
  },
  {
   "cell_type": "code",
   "execution_count": 141,
   "id": "4774eea7",
   "metadata": {},
   "outputs": [
    {
     "name": "stdout",
     "output_type": "stream",
     "text": [
      "Температура за турбиной:  596.7092499216686\n"
     ]
    }
   ],
   "source": [
    "T_d = T_c * (1 - (1 - expansion_ratio ** (-m_gas)) * turbine_efficiency)\n",
    "print(\"Температура за турбиной: \", to_celsius(T_d))"
   ]
  },
  {
   "cell_type": "code",
   "execution_count": 142,
   "id": "b7cfe73c",
   "metadata": {},
   "outputs": [],
   "source": [
    "h_d = (\n",
    "    1000 * gas.h_cp(T_d, alpha) *\n",
    "    fuel_volumetric_flow_rate / gas_mass_flow_rate\n",
    ")"
   ]
  },
  {
   "cell_type": "code",
   "execution_count": 143,
   "id": "d3aba1ff",
   "metadata": {},
   "outputs": [],
   "source": [
    "H_turbine = h_c - h_d\n",
    "H_compressor = h_b - h_a\n",
    "H_work = H_turbine * mechanical_efficiency - (air_mass_flow_rate / gas_mass_flow_rate) * H_compressor"
   ]
  },
  {
   "cell_type": "code",
   "execution_count": 144,
   "id": "3b2874b2",
   "metadata": {},
   "outputs": [
    {
     "data": {
      "text/plain": [
       "275.3987157965226"
      ]
     },
     "execution_count": 144,
     "metadata": {},
     "output_type": "execute_result"
    }
   ],
   "source": [
    "gas_mass_flow = electrical_power / (H_work * generator_efficiency)\n",
    "gas_mass_flow"
   ]
  },
  {
   "cell_type": "code",
   "execution_count": 145,
   "id": "402e5bd2",
   "metadata": {},
   "outputs": [],
   "source": [
    "turbine_power = gas_mass_flow_rate * H_turbine\n",
    "compressor_power = air_mass_flow_rate * H_compressor"
   ]
  },
  {
   "cell_type": "code",
   "execution_count": 146,
   "id": "8a817c3e",
   "metadata": {},
   "outputs": [
    {
     "data": {
      "text/plain": [
       "0.48695188998936134"
      ]
     },
     "execution_count": 146,
     "metadata": {},
     "output_type": "execute_result"
    }
   ],
   "source": [
    "work_coefficient = (turbine_power - compressor_power) / turbine_power\n",
    "work_coefficient"
   ]
  },
  {
   "cell_type": "code",
   "execution_count": 147,
   "id": "2593967d",
   "metadata": {},
   "outputs": [
    {
     "data": {
      "text/plain": [
       "0.3497532610510149"
      ]
     },
     "execution_count": 147,
     "metadata": {},
     "output_type": "execute_result"
    }
   ],
   "source": [
    "electrical_efficiency_estimated = (\n",
    "    gas_mass_flow_rate * H_work * generator_efficiency / (fuel_mass_flow_rate * Q_lower)\n",
    ")\n",
    "electrical_efficiency_estimated"
   ]
  },
  {
   "cell_type": "code",
   "execution_count": null,
   "id": "ab447572",
   "metadata": {},
   "outputs": [],
   "source": []
  }
 ],
 "metadata": {
  "kernelspec": {
   "display_name": "Python 3 (ipykernel)",
   "language": "python",
   "name": "python3"
  },
  "language_info": {
   "codemirror_mode": {
    "name": "ipython",
    "version": 3
   },
   "file_extension": ".py",
   "mimetype": "text/x-python",
   "name": "python",
   "nbconvert_exporter": "python",
   "pygments_lexer": "ipython3",
   "version": "3.8.5"
  }
 },
 "nbformat": 4,
 "nbformat_minor": 5
}
